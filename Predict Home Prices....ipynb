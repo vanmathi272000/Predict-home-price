{
 "cells": [
  {
   "cell_type": "code",
   "execution_count": null,
   "id": "da63258c-026d-4b81-b8fc-b49c70375766",
   "metadata": {},
   "outputs": [],
   "source": [
    "import numpy as np\n",
    "import pandas as pd\n",
    "import matplotlib.pyplot as plt\n",
    "from sklearn.model_selection import train_test_split\n",
    "from sklearn.linear_model import LinearRegression\n",
    "\n",
    "# Load data from CSV file\n",
    "data = pd.read_csv('home_dataset.csv')\n",
    " \n",
    "# Extract features and target variable\n",
    "house_sizes = data ['HouseSize'].values\n",
    "house_prices = data['HousePrice'].values\n",
    "\n",
    "# Visualize the data\n",
    "plt.scatter(house_sizes, house_prices, marker ='o', color ='blue')\n",
    "plt.title('House Prices vs. House Size')\n",
    "plt.xlabel('House Size (sq.ft)')\n",
    "plt.ylabel('House Price ($)')\n",
    "plt.show()\n",
    "\n",
    "# Split the data into training and testing sets\n",
    "x_train, x_test, y_train, y_test = train_test_split(house_sizes, house_prices, test_size=0.2, random_state=42)\n",
    "\n",
    "# Reshape the data for NumPy\n",
    "x_train = x_train.reshape(-1, 1)\n",
    "x_test = x_test.reshape(-1, 1)\n",
    "\n",
    "# Create and train the model\n",
    "model = LinearRegression()\n",
    "model.fit(x_train, y_train)\n",
    "\n",
    "# Predict prices for the test set\n",
    "predictions = model.predict(x_test)\n",
    "\n",
    "# Visualize the predictions\n",
    "plt.scatter(x_test, y_test, marker='o', color='blue', label='Actual Prices')\n",
    "plt.plot(x_test, predictions, color='red', linewidth=2, label='Predicted Prices')\n",
    "plt.title('Dumbo Property Price Prediction with Linear Regression')\n",
    "plt.xlabel('House Size (sq.ft)')\n",
    "plt.ylabel('House Price (millions $)')\n",
    "plt.legend()\n",
    "plt.show()"
   ]
  }
 ],
 "metadata": {
  "kernelspec": {
   "display_name": "Python [conda env:base] *",
   "language": "python",
   "name": "conda-base-py"
  },
  "language_info": {
   "codemirror_mode": {
    "name": "ipython",
    "version": 3
   },
   "file_extension": ".py",
   "mimetype": "text/x-python",
   "name": "python",
   "nbconvert_exporter": "python",
   "pygments_lexer": "ipython3",
   "version": "3.13.5"
  },
  "widgets": {
   "application/vnd.jupyter.widget-state+json": {
    "state": {},
    "version_major": 2,
    "version_minor": 0
   }
  }
 },
 "nbformat": 4,
 "nbformat_minor": 5
}
